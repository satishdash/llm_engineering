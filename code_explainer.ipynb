{
 "cells": [
  {
   "cell_type": "markdown",
   "id": "fe12c203-e6a6-452c-a655-afb8a03a4ff5",
   "metadata": {},
   "source": [
    "# End of week 1 exercise\n",
    "\n",
    "To demonstrate your familiarity with OpenAI API, and also Ollama, build a tool that takes a technical question,  \n",
    "and responds with an explanation. This is a tool that you will be able to use yourself during the course!"
   ]
  },
  {
   "cell_type": "code",
   "execution_count": 58,
   "id": "c1070317-3ed9-4659-abe3-828943230e03",
   "metadata": {},
   "outputs": [],
   "source": [
    "# imports\n",
    "from openai import OpenAI\n",
    "import json\n",
    "from IPython.display import display, Markdown, update_display"
   ]
  },
  {
   "cell_type": "code",
   "execution_count": 46,
   "id": "4a456906-915a-4bfd-bb9d-57e505c5093f",
   "metadata": {},
   "outputs": [],
   "source": [
    "# constants\n",
    "\n",
    "MODEL_GPT = 'gpt-4o-mini'\n",
    "MODEL_LLAMA = 'llama3.2'"
   ]
  },
  {
   "cell_type": "code",
   "execution_count": 47,
   "id": "a8d7923c-5f28-4c30-8556-342d7c8497c1",
   "metadata": {},
   "outputs": [],
   "source": [
    "# set up environment\n",
    "api_key = \"ollama\"\n",
    "openai = OpenAI(base_url=\"http://localhost:11434/v1\", api_key=api_key)"
   ]
  },
  {
   "cell_type": "code",
   "execution_count": 71,
   "id": "3f0d0137-52b0-47a8-81a8-11a90a010798",
   "metadata": {},
   "outputs": [],
   "source": [
    "# here is the question; type over this to ask something new\n",
    "\n",
    "question = \"\"\"\n",
    "Please explain what this code does and why:\n",
    "yield from {book.get(\"author\") for book in books if book.get(\"author\")}\n",
    "\"\"\"\n",
    "\n",
    "system_prompt = \"\"\"\n",
    "You're an expert in software development and programming languages. \n",
    "Please explain the code from the user describing as below:\n",
    "- Which programming language this code snippet belongs to \n",
    "- Then explain its intent step by step \n",
    "- Response to all the above should be in a markdown format\n",
    "\"\"\""
   ]
  },
  {
   "cell_type": "code",
   "execution_count": 72,
   "id": "87b4327a-5158-49b9-bd09-e9e28a5b0b1e",
   "metadata": {},
   "outputs": [],
   "source": [
    "def get_messages(user_prompt: str) -> list[dict[str, str]]:\n",
    "    return [\n",
    "        {\"role\": \"system\", \"content\": system_prompt},\n",
    "        {\"role\": \"user\", \"content\": user_prompt}\n",
    "    ]"
   ]
  },
  {
   "cell_type": "code",
   "execution_count": 73,
   "id": "862aa06c-a73b-4f06-8589-8d45acc61ea9",
   "metadata": {},
   "outputs": [],
   "source": [
    "user_prompt = \"\"\"\n",
    "yield from {book.get(\"author\") for book in books if book.get(\"author\")}\n",
    "\"\"\""
   ]
  },
  {
   "cell_type": "code",
   "execution_count": 74,
   "id": "7b9e030f-a294-42b0-a495-c770fd3bc109",
   "metadata": {},
   "outputs": [],
   "source": [
    "# Get Llama 3.2 to answer\n",
    "def stream_explanation(user_promt: str) -> None:\n",
    "    stream = openai.chat.completions.create(\n",
    "        model=MODEL_LLAMA,\n",
    "        messages=get_messages(user_prompt=user_prompt),\n",
    "        stream=True\n",
    "    )\n",
    "    response = \"\"\n",
    "    display_handle = display(Markdown(\"\"), display_id=True)\n",
    "    for chunk in stream:\n",
    "        response += chunk.choices[0].delta.content or ''\n",
    "        response = response.replace(\"```\",\"\").replace(\"markdown\", \"\")\n",
    "        update_display(Markdown(response), display_id=display_handle.display_id)"
   ]
  },
  {
   "cell_type": "code",
   "execution_count": 75,
   "id": "daeac280-c5af-4b2c-b97a-945146a8f2d3",
   "metadata": {},
   "outputs": [
    {
     "data": {
      "text/markdown": [
       "**Code Analysis**\n",
       "================\n",
       "\n",
       "### Programming Language\n",
       "The code snippet belongs to Python.\n",
       "\n",
       "### Intent Explanation\n",
       "----------------------\n",
       "\n",
       "Here's a step-by-step breakdown of the code:\n",
       "\n",
       "#### Line 1: `yield from`\n",
       "`yield from` is a YAML keyword, not a Python keyword. In this context, it is likely being used to allow deeper nesting in the YAML data structure. However, since this is a Python snippet, we'll assume it's actually meant to be a Python iterator.\n",
       "\n",
       "#### Line 2: `{book.get(\"author\") for book in books if book.get(\"author\")}`\n",
       "This line uses a combination of Python's syntax features to:\n",
       "\n",
       "*   **Iterate over the elements** of `books`: The `for` loop will iterate over each item in the `books` list or any other iterable.\n",
       "*   **Filter based on a condition**: The `if` clause filters out items for which the value associated with the key `\"author\"` is not found using the `get()` method. This is equivalent to a Python list comprehension, but it takes advantage of the iteration and filtering capabilities of the loop.\n",
       "\n",
       "Here's what happens line by line:\n",
       "*   *List Comprehension*: `{...}` is used to create a new list that contains the elements generated by the expression.\n",
       "*   Inside the comprehension, `book.get(\"author\")` extracts the value associated with the `\"author\"` key from each dictionary (`book`) in the `books` iterable. If the key is not present, it defaults to an empty string.\n",
       "*   The resulting values are yielded (generated) as an iterator.\n",
       "\n",
       "In summary, this code constructs a sequence of author names by:\n",
       "\n",
       "1.  Iterating over the `books` list\n",
       "2.  Filtering out dictionaries without an `\"author\"` entry\n",
       "3.  Extracting and yielding the corresponding author values\n",
       "\n",
       "This is equivalent to writing a Python loop with a conditional statement that checks for the presence of `\"author\"` before accessing it, like this:\n",
       "\n",
       "python\n",
       "for book in books:\n",
       "    if \"author\" in book:\n",
       "        yield book[\"author\"]\n",
       "\n",
       "\n",
       "However, the original code snippet uses a more concise and idiomatic way to achieve the same result using Python's iterable `get()` method and generator expression."
      ],
      "text/plain": [
       "<IPython.core.display.Markdown object>"
      ]
     },
     "metadata": {},
     "output_type": "display_data"
    }
   ],
   "source": [
    "stream_explanation(user_promt=user_prompt)"
   ]
  },
  {
   "cell_type": "code",
   "execution_count": null,
   "id": "ecc316be-f85b-4bd1-924c-a75eee30d862",
   "metadata": {},
   "outputs": [],
   "source": []
  }
 ],
 "metadata": {
  "kernelspec": {
   "display_name": "Python 3 (ipykernel)",
   "language": "python",
   "name": "python3"
  },
  "language_info": {
   "codemirror_mode": {
    "name": "ipython",
    "version": 3
   },
   "file_extension": ".py",
   "mimetype": "text/x-python",
   "name": "python",
   "nbconvert_exporter": "python",
   "pygments_lexer": "ipython3",
   "version": "3.12.10"
  }
 },
 "nbformat": 4,
 "nbformat_minor": 5
}
